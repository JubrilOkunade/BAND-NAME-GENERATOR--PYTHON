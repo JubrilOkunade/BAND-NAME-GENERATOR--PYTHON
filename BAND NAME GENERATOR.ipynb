{
 "cells": [
  {
   "cell_type": "markdown",
   "id": "0c46832e",
   "metadata": {},
   "source": [
    "## Introduction\n",
    "\n",
    "The goal of this project is to create a band name generator help upcoming bands generate an random name for their new band."
   ]
  },
  {
   "cell_type": "code",
   "execution_count": 1,
   "id": "47fbd978",
   "metadata": {},
   "outputs": [
    {
     "name": "stdout",
     "output_type": "stream",
     "text": [
      "Hello, welcome to bandname generator created by Jubril Okunade\n"
     ]
    }
   ],
   "source": [
    "#1. Create a greeting for your program.\n",
    "print('Hello, welcome to bandname generator created by Jubril Okunade')"
   ]
  },
  {
   "cell_type": "code",
   "execution_count": 2,
   "id": "d67b885d",
   "metadata": {},
   "outputs": [
    {
     "name": "stdout",
     "output_type": "stream",
     "text": [
      "What city did you grow up in? ibadan\n",
      "What is the name of your pet? bunny\n",
      "Your band name is: ibadanbunny\n"
     ]
    }
   ],
   "source": [
    "#2. Ask the user for the city that they grew up in.\n",
    "city =input('What city did you grow up in? ')\n",
    "\n",
    "#3. Ask the user for the name of a pet.\n",
    "pet =input('What is the name of your pet? ')\n",
    "\n",
    "#4. Combine the name of their city and pet and show them their band name.\n",
    "print('Your band name is: '+ city+pet)"
   ]
  }
 ],
 "metadata": {
  "kernelspec": {
   "display_name": "Python 3 (ipykernel)",
   "language": "python",
   "name": "python3"
  },
  "language_info": {
   "codemirror_mode": {
    "name": "ipython",
    "version": 3
   },
   "file_extension": ".py",
   "mimetype": "text/x-python",
   "name": "python",
   "nbconvert_exporter": "python",
   "pygments_lexer": "ipython3",
   "version": "3.9.7"
  }
 },
 "nbformat": 4,
 "nbformat_minor": 5
}
